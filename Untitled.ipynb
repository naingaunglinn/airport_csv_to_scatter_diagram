{
 "cells": [
  {
   "cell_type": "code",
   "execution_count": 5,
   "id": "7975c90e",
   "metadata": {},
   "outputs": [
    {
     "name": "stdout",
     "output_type": "stream",
     "text": [
      "Pleae enter your file path: C:\\Users\\naing\\Downloads\\Telegram Desktop\\python_pj\\airports.csv\n"
     ]
    },
    {
     "data": {
      "image/png": "[encoded data removed]",
      "text/plain": [
       "<Figure size 432x288 with 1 Axes>"
      ]
     },
     "metadata": {
      "needs_background": "light"
     },
     "output_type": "display_data"
    }
   ],
   "source": [
    "import matplotlib.pyplot as plt\n",
    "import re\n",
    "\n",
    "filePath = input(\"Pleae enter your file path: \")\n",
    "with open(filePath, 'r') as f:\n",
    "    dataArray = []\n",
    "    dataDiagram = []\n",
    "    colData_1 = ''\n",
    "    colData_2 = ''\n",
    "    colData_3 = ''\n",
    "    colData_4 = ''\n",
    "    airportItem = 0\n",
    "    cityItem = 0\n",
    "    latItem = 0\n",
    "    longItem = 0\n",
    "    xData = []\n",
    "    yData = []\n",
    "    for line in f:\n",
    "        line = re.sub(r'(?!(([^\"]*\"){2})*[^\"]*$),', '|', line)\n",
    "        words = line.split(',')\n",
    "        # print (words[1])\n",
    "        \n",
    "        for i in range(len(words)):\n",
    "            # print (i, words[i])\n",
    "            if words[i] == 'airport':\n",
    "                airportItem = i\n",
    "                # break\n",
    "            if words[airportItem] != 'iata' and words[airportItem] != 'airport':\n",
    "                colData_1 = words[airportItem].replace('|', ',')\n",
    "                \n",
    "        for i in range(len(words)):\n",
    "            if words[i] == 'city':\n",
    "                cityItem = i\n",
    "                # break\n",
    "            if words[cityItem] != 'iata' and words[cityItem] != 'city':\n",
    "                colData_2 = words[cityItem].replace('|', ',')\n",
    "                \n",
    "        for i in range(len(words)):\n",
    "            if words[i] == 'lat':\n",
    "                latItem = i\n",
    "                # break\n",
    "            if words[latItem] != 'iata' and words[latItem] != 'lat':\n",
    "                colData_3 = words[latItem]\n",
    "                # print (words[latItem])\n",
    "        \n",
    "        for i in range(len(words)):\n",
    "            if words[i] == 'long\\n':\n",
    "                longItem = i\n",
    "                # break\n",
    "            if words[longItem] != 'iata' and words[longItem] != 'long' and words[longItem] != 'long\\n':\n",
    "                colData_4 = words[longItem]\n",
    "                colData_4 = colData_4.replace('\\n','')\n",
    "                dataArray.append((colData_1,colData_2,colData_3,colData_4)) \n",
    "                \n",
    "                latFloat = float(colData_3) \n",
    "                longFloat = float(colData_4)\n",
    "                if((latFloat >= 32 and latFloat <= 37) and (longFloat >= -100 and longFloat <= -80) ):\n",
    "                    xData.append(latFloat)\n",
    "                    yData.append(longFloat)\n",
    "                    dataDiagram.append((colData_1,colData_2,colData_3,colData_4))\n",
    "                    break\n",
    "                \n",
    "    newData = list(dict.fromkeys(dataArray))  \n",
    "    newDiagram = list(dict.fromkeys(dataDiagram))\n",
    "    \n",
    "with open('airport-data.txt', 'x') as w:\n",
    "    w.write('\\n'.join(str(item) for item in newData) + '\\n')\n",
    "    \n",
    "with open('coordiante.txt', 'x') as r:\n",
    "    r.write('\\n'.join(str(item) for item in newDiagram) + '\\n')    \n",
    "    \n",
    "plt.scatter(xData, yData)\n",
    "plt.xlabel('Latitude')\n",
    "plt.ylabel('Longtitude')\n",
    "plt.xlim(32,37)\n",
    "plt.ylim([-100,-80])\n",
    "plt.show()"
   ]
  },
  {
   "cell_type": "code",
   "execution_count": null,
   "id": "f81170d9",
   "metadata": {},
   "outputs": [],
   "source": []
  },
  {
   "cell_type": "code",
   "execution_count": null,
   "id": "8e118233",
   "metadata": {},
   "outputs": [],
   "source": []
  },
  {
   "cell_type": "code",
   "execution_count": null,
   "id": "30a40288",
   "metadata": {},
   "outputs": [],
   "source": []
  }
 ],
 "metadata": {
  "kernelspec": {
   "display_name": "Python 3 (ipykernel)",
   "language": "python",
   "name": "python3"
  },
  "language_info": {
   "codemirror_mode": {
    "name": "ipython",
    "version": 3
   },
   "file_extension": ".py",
   "mimetype": "text/x-python",
   "name": "python",
   "nbconvert_exporter": "python",
   "pygments_lexer": "ipython3",
   "version": "3.10.0"
  }
 },
 "nbformat": 4,
 "nbformat_minor": 5
}
